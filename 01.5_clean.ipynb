{
 "cells": [
  {
   "cell_type": "code",
   "execution_count": 1,
   "id": "53936bbf",
   "metadata": {},
   "outputs": [],
   "source": [
    "from glob import glob\n",
    "from pathlib import Path\n",
    "import shutil\n",
    "from pdb import set_trace\n",
    "import pandas as pd"
   ]
  },
  {
   "cell_type": "code",
   "execution_count": 2,
   "id": "de40aa2d",
   "metadata": {},
   "outputs": [],
   "source": [
    "files = glob(\"data/*\")"
   ]
  },
  {
   "cell_type": "code",
   "execution_count": 3,
   "id": "017beb08",
   "metadata": {},
   "outputs": [
    {
     "data": {
      "text/plain": [
       "4"
      ]
     },
     "execution_count": 3,
     "metadata": {},
     "output_type": "execute_result"
    }
   ],
   "source": [
    "group = {}\n",
    "for i in files:\n",
    "    types = i.split(\"/\")[-1].split(\"_x_\")[0]\n",
    "    if types not in group:\n",
    "        group[types] = [i]\n",
    "    else:\n",
    "        group[types].append(i)\n",
    "len(group)"
   ]
  },
  {
   "cell_type": "code",
   "execution_count": 13,
   "id": "a62f846b",
   "metadata": {},
   "outputs": [],
   "source": [
    "Path(\"processed\").mkdir(exist_ok=True)"
   ]
  },
  {
   "cell_type": "code",
   "execution_count": 14,
   "id": "9c94e920",
   "metadata": {},
   "outputs": [],
   "source": [
    "for k in group:\n",
    "    if k == 'dosm-public-mets':\n",
    "        s = group[k]\n",
    "        lookups = [pd.read_csv(i,index_col=0) for i in s if \"lookup_hs\" in i][0]\n",
    "        sources = pd.concat([pd.read_csv(i,index_col=0) for i in s if \"lookup\" not in i])\n",
    "        mets_df = pd.merge(sources, lookups, left_on = 'hs_6d', right_on = 'hs_6d', how = 'left').drop('hs_6d', axis = 1)\n",
    "        mets_df.to_csv(\"processed/mets.csv\",index=False)\n",
    "    elif k == 'dosm-public-pricecatcher':\n",
    "        s = group[k]\n",
    "        item = pd.read_csv(\"data/dosm-public-pricecatcher_x_lookup_item_preview.parquet\",index_col=0)\n",
    "        premise = pd.read_csv(\"data/dosm-public-pricecatcher_x_lookup_premise_preview.parquet\",index_col=0)\n",
    "        sources = pd.concat([pd.read_csv(i,index_col=0) for i in s if \"lookup\" not in i])\n",
    "        left = pd.merge(sources, item, left_on = 'item_code', right_on = 'item_code', how = 'left').drop('item_code', axis = 1)\n",
    "        price = pd.merge(left, premise, left_on = 'premise_code', right_on = 'premise_code', how = 'left').drop('premise_code', axis = 1)\n",
    "        mets_df.to_csv(\"processed/price.csv\",index=False)\n",
    "    else:\n",
    "        source = group[k]\n",
    "        for i in source:\n",
    "            targ = i.replace(\"data\",\"processed\").replace(\".parquet\",\".csv\")\n",
    "            if Path(targ).is_file():\n",
    "                continue\n",
    "            df = pd.read_csv(i,index_col=0)\n",
    "            df.to_csv(targ,index=False)"
   ]
  },
  {
   "cell_type": "code",
   "execution_count": null,
   "id": "a3363d6c",
   "metadata": {},
   "outputs": [],
   "source": []
  }
 ],
 "metadata": {
  "kernelspec": {
   "display_name": "Python 3 (ipykernel)",
   "language": "python",
   "name": "python3"
  },
  "language_info": {
   "codemirror_mode": {
    "name": "ipython",
    "version": 3
   },
   "file_extension": ".py",
   "mimetype": "text/x-python",
   "name": "python",
   "nbconvert_exporter": "python",
   "pygments_lexer": "ipython3",
   "version": "3.9.16"
  }
 },
 "nbformat": 4,
 "nbformat_minor": 5
}
